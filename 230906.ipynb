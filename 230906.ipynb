{
  "nbformat": 4,
  "nbformat_minor": 0,
  "metadata": {
    "colab": {
      "provenance": [],
      "authorship_tag": "ABX9TyOzuTT/p1apH1j4rAVez/jA",
      "include_colab_link": true
    },
    "kernelspec": {
      "name": "python3",
      "display_name": "Python 3"
    },
    "language_info": {
      "name": "python"
    }
  },
  "cells": [
    {
      "cell_type": "markdown",
      "metadata": {
        "id": "view-in-github",
        "colab_type": "text"
      },
      "source": [
        "<a href=\"https://colab.research.google.com/github/anzdata/test/blob/main/230906.ipynb\" target=\"_parent\"><img src=\"https://colab.research.google.com/assets/colab-badge.svg\" alt=\"Open In Colab\"/></a>"
      ]
    },
    {
      "cell_type": "markdown",
      "source": [
        "## 함수"
      ],
      "metadata": {
        "id": "WGZTAtqZPisc"
      }
    },
    {
      "cell_type": "code",
      "source": [
        "def sum(num1, num2):\n",
        "  result = num1 + num2\n",
        "  return result # return은 ~를 해주겠다 는 뜻 (내뱉어줌)"
      ],
      "metadata": {
        "id": "JnwQ7hdMPk8T"
      },
      "execution_count": null,
      "outputs": []
    },
    {
      "cell_type": "code",
      "source": [
        "sum(3,4)"
      ],
      "metadata": {
        "colab": {
          "base_uri": "https://localhost:8080/"
        },
        "id": "ozIGIpS4QvuV",
        "outputId": "4c2f31d2-a1c6-4aaf-b594-66052984129b"
      },
      "execution_count": null,
      "outputs": [
        {
          "output_type": "execute_result",
          "data": {
            "text/plain": [
              "7"
            ]
          },
          "metadata": {},
          "execution_count": 12
        }
      ]
    },
    {
      "cell_type": "code",
      "source": [
        "# 입력값이 없는 함수\n",
        "def say():\n",
        "  return 'Hi'\n",
        "say()"
      ],
      "metadata": {
        "colab": {
          "base_uri": "https://localhost:8080/",
          "height": 36
        },
        "id": "YMNQ4kJLSUlT",
        "outputId": "ad1e4b2c-0318-43b5-8aee-d75f1fd0ec82"
      },
      "execution_count": null,
      "outputs": [
        {
          "output_type": "execute_result",
          "data": {
            "text/plain": [
              "'Hi'"
            ],
            "application/vnd.google.colaboratory.intrinsic+json": {
              "type": "string"
            }
          },
          "metadata": {},
          "execution_count": 13
        }
      ]
    },
    {
      "cell_type": "code",
      "source": [
        "def sum2(num1, num2): #\n",
        "  print(num1+num2)\n",
        "\n",
        "a = sum(3,4)\n",
        "b = sum2(3,4)"
      ],
      "metadata": {
        "colab": {
          "base_uri": "https://localhost:8080/"
        },
        "id": "-4QVLMXGSkls",
        "outputId": "10ad969c-c9f0-4d30-a9ef-fd857f189c22"
      },
      "execution_count": null,
      "outputs": [
        {
          "output_type": "stream",
          "name": "stdout",
          "text": [
            "7\n"
          ]
        }
      ]
    },
    {
      "cell_type": "code",
      "source": [
        "print(a)  # 함수는 return을 해줘야 나옴. 결과값을 해주기 위해서는 꼭 해줘야함.\n",
        "print(b)  # b는 단순결과가 프린트 된 것이라 나오지 않음."
      ],
      "metadata": {
        "colab": {
          "base_uri": "https://localhost:8080/"
        },
        "id": "tIceu1IvTa18",
        "outputId": "717bd3f1-9296-45bd-99fa-a501cff463de"
      },
      "execution_count": null,
      "outputs": [
        {
          "output_type": "stream",
          "name": "stdout",
          "text": [
            "7\n",
            "None\n"
          ]
        }
      ]
    },
    {
      "cell_type": "code",
      "source": [
        "# 함수에 넣어줄 때 순서가 그대로 들어가야 함.\n",
        "sum(3, 4)\n",
        "# 다르게 넣을 때에는 아래처럼 명시 시켜줘도 됨.\n",
        "sum(num1 = 3, num2 = 4)"
      ],
      "metadata": {
        "colab": {
          "base_uri": "https://localhost:8080/"
        },
        "id": "atO30t3EUrJc",
        "outputId": "71007ebe-7734-4149-e120-9163a969f853"
      },
      "execution_count": null,
      "outputs": [
        {
          "output_type": "execute_result",
          "data": {
            "text/plain": [
              "7"
            ]
          },
          "metadata": {},
          "execution_count": 21
        }
      ]
    },
    {
      "cell_type": "code",
      "source": [
        "def say_myself(name, old, man = True): # 입력을 안했을 때 man이 True가 됨.\n",
        "  print(f'나의 이름은 {name}입니다.')\n",
        "  print(f'나의 이름은 {old}입니다.')\n",
        "  if man:\n",
        "       print('남자입니다.')\n",
        "  else:\n",
        "       print('여자입니다.')\n",
        "say_myself('홍길동', 20)\n",
        "say_myself('박명수', 55, True)\n",
        "say_myself('박명순', 55, False)\n",
        "say_myself(old = 10, name = '뽀로로')"
      ],
      "metadata": {
        "colab": {
          "base_uri": "https://localhost:8080/"
        },
        "id": "aA9SYbJCVXfr",
        "outputId": "f1483e5f-942b-4f49-abf4-cd68a159eaba"
      },
      "execution_count": null,
      "outputs": [
        {
          "output_type": "stream",
          "name": "stdout",
          "text": [
            "나의 이름은 홍길동입니다.\n",
            "나의 이름은 20입니다.\n",
            "남자입니다.\n",
            "나의 이름은 박명수입니다.\n",
            "나의 이름은 55입니다.\n",
            "남자입니다.\n",
            "나의 이름은 박명순입니다.\n",
            "나의 이름은 55입니다.\n",
            "여자입니다.\n",
            "나의 이름은 뽀로로입니다.\n",
            "나의 이름은 10입니다.\n",
            "남자입니다.\n"
          ]
        }
      ]
    },
    {
      "cell_type": "markdown",
      "source": [
        "## 전역변수 vs 지역변수\n",
        "- 전역변수 : 함수 외부에서 선언 된 변수이며 프로그램 전체에서 사용 가능하다.\n",
        "- 지역변수 : 함수 내부에서 선언 된 변수이며 해당 함수 내부에서만 사용할 수 있다."
      ],
      "metadata": {
        "id": "faGUVt2wXQsV"
      }
    },
    {
      "cell_type": "code",
      "source": [
        "def test():\n",
        "  local_var = 20\n",
        "test()"
      ],
      "metadata": {
        "id": "w8SrNZ2PXTTC"
      },
      "execution_count": null,
      "outputs": []
    },
    {
      "cell_type": "code",
      "source": [
        "print(local_var)    # 지역변수라서 에러가 발생. 함수 안에서 놀아야 됨"
      ],
      "metadata": {
        "colab": {
          "base_uri": "https://localhost:8080/"
        },
        "id": "H29k33i7X3Pr",
        "outputId": "979f3cbf-1044-4110-f60e-36c37abc0ffe"
      },
      "execution_count": null,
      "outputs": [
        {
          "output_type": "stream",
          "name": "stdout",
          "text": [
            "20\n"
          ]
        }
      ]
    },
    {
      "cell_type": "code",
      "source": [
        "def test2():\n",
        "  local_var = 20\n",
        "  return local_var\n",
        "a = test2()\n",
        "print(a)"
      ],
      "metadata": {
        "colab": {
          "base_uri": "https://localhost:8080/"
        },
        "id": "UFwUnhczYX9j",
        "outputId": "1ab0bdb3-5c19-45f3-9d08-6708abec78cc"
      },
      "execution_count": null,
      "outputs": [
        {
          "output_type": "stream",
          "name": "stdout",
          "text": [
            "20\n"
          ]
        }
      ]
    },
    {
      "cell_type": "code",
      "source": [
        "def test3(): #가능하게 만듦, 최대한 쓰지 말것...\n",
        "  global local_var\n",
        "  local_var = 20\n",
        "test3()\n",
        "print(local_var)"
      ],
      "metadata": {
        "colab": {
          "base_uri": "https://localhost:8080/"
        },
        "id": "p15xkeqOY9Za",
        "outputId": "42a4b91c-504b-48e9-da65-c5d3ab0b9885"
      },
      "execution_count": null,
      "outputs": [
        {
          "output_type": "stream",
          "name": "stdout",
          "text": [
            "20\n"
          ]
        }
      ]
    },
    {
      "cell_type": "markdown",
      "source": [
        "### 연습문제\n",
        "\n",
        "2-9. 입력하는 모든 수의 평균을 계산하는 함수 만들기\n",
        "- 입력 개수에 상관없이 사용하기 위해, 함수 입력 값 자리에, *args를 사용\n",
        "- def means(*args):"
      ],
      "metadata": {
        "id": "3UgCp_O5cQIa"
      }
    },
    {
      "cell_type": "code",
      "source": [
        "def means(*args):\n",
        "  sum1 = 0\n",
        "  count1 = 0\n",
        "  for i in args:\n",
        "    sum1 = sum1 + i\n",
        "    count1 = count1 +1\n",
        "  result= sum1/count1\n",
        "  return result\n",
        "print(means(1,2,3,4,5,6,7,8))"
      ],
      "metadata": {
        "colab": {
          "base_uri": "https://localhost:8080/"
        },
        "id": "4JNR5IvBZN2S",
        "outputId": "970a613a-453b-4292-ecc2-91f096f476e0"
      },
      "execution_count": null,
      "outputs": [
        {
          "output_type": "stream",
          "name": "stdout",
          "text": [
            "4.5\n"
          ]
        }
      ]
    },
    {
      "cell_type": "code",
      "source": [
        "def my_means(*args):\n",
        "    rst = sum(args) / len(args)\n",
        "    return rst\n",
        "\n",
        "my_means(1,2,3)"
      ],
      "metadata": {
        "colab": {
          "base_uri": "https://localhost:8080/",
          "height": 354
        },
        "id": "_Ac1AHf_eKK2",
        "outputId": "e8fcaade-6dde-40bf-dfa7-fcfcd1cc7385"
      },
      "execution_count": null,
      "outputs": [
        {
          "output_type": "error",
          "ename": "TypeError",
          "evalue": "ignored",
          "traceback": [
            "\u001b[0;31m---------------------------------------------------------------------------\u001b[0m",
            "\u001b[0;31mTypeError\u001b[0m                                 Traceback (most recent call last)",
            "\u001b[0;32m<ipython-input-154-c6f40c082741>\u001b[0m in \u001b[0;36m<cell line: 5>\u001b[0;34m()\u001b[0m\n\u001b[1;32m      3\u001b[0m     \u001b[0;32mreturn\u001b[0m \u001b[0mrst\u001b[0m\u001b[0;34m\u001b[0m\u001b[0;34m\u001b[0m\u001b[0m\n\u001b[1;32m      4\u001b[0m \u001b[0;34m\u001b[0m\u001b[0m\n\u001b[0;32m----> 5\u001b[0;31m \u001b[0mmy_means\u001b[0m\u001b[0;34m(\u001b[0m\u001b[0;36m1\u001b[0m\u001b[0;34m,\u001b[0m\u001b[0;36m2\u001b[0m\u001b[0;34m,\u001b[0m\u001b[0;36m3\u001b[0m\u001b[0;34m)\u001b[0m\u001b[0;34m\u001b[0m\u001b[0;34m\u001b[0m\u001b[0m\n\u001b[0m",
            "\u001b[0;32m<ipython-input-154-c6f40c082741>\u001b[0m in \u001b[0;36mmy_means\u001b[0;34m(*args)\u001b[0m\n\u001b[1;32m      1\u001b[0m \u001b[0;32mdef\u001b[0m \u001b[0mmy_means\u001b[0m\u001b[0;34m(\u001b[0m\u001b[0;34m*\u001b[0m\u001b[0margs\u001b[0m\u001b[0;34m)\u001b[0m\u001b[0;34m:\u001b[0m\u001b[0;34m\u001b[0m\u001b[0;34m\u001b[0m\u001b[0m\n\u001b[0;32m----> 2\u001b[0;31m     \u001b[0mrst\u001b[0m \u001b[0;34m=\u001b[0m \u001b[0msum\u001b[0m\u001b[0;34m(\u001b[0m\u001b[0margs\u001b[0m\u001b[0;34m)\u001b[0m \u001b[0;34m/\u001b[0m \u001b[0mlen\u001b[0m\u001b[0;34m(\u001b[0m\u001b[0margs\u001b[0m\u001b[0;34m)\u001b[0m\u001b[0;34m\u001b[0m\u001b[0;34m\u001b[0m\u001b[0m\n\u001b[0m\u001b[1;32m      3\u001b[0m     \u001b[0;32mreturn\u001b[0m \u001b[0mrst\u001b[0m\u001b[0;34m\u001b[0m\u001b[0;34m\u001b[0m\u001b[0m\n\u001b[1;32m      4\u001b[0m \u001b[0;34m\u001b[0m\u001b[0m\n\u001b[1;32m      5\u001b[0m \u001b[0mmy_means\u001b[0m\u001b[0;34m(\u001b[0m\u001b[0;36m1\u001b[0m\u001b[0;34m,\u001b[0m\u001b[0;36m2\u001b[0m\u001b[0;34m,\u001b[0m\u001b[0;36m3\u001b[0m\u001b[0;34m)\u001b[0m\u001b[0;34m\u001b[0m\u001b[0;34m\u001b[0m\u001b[0m\n",
            "\u001b[0;31mTypeError\u001b[0m: sum() missing 1 required positional argument: 'num2'"
          ]
        }
      ]
    },
    {
      "cell_type": "markdown",
      "source": [
        "#### 2-10. 두 수를 입력 받아 사칙연산(+,-,×,/)을 하는 함수 만들기"
      ],
      "metadata": {
        "id": "PzHPDto3d09K"
      }
    },
    {
      "cell_type": "code",
      "source": [
        "def cal(num1, num2):\n",
        "  return num1+num2, num1-num2, num1*num2, num1/num2"
      ],
      "metadata": {
        "id": "taGuuWQ0cLWf"
      },
      "execution_count": null,
      "outputs": []
    },
    {
      "cell_type": "code",
      "source": [
        "def cul2(num1, num2):\n",
        "    a = input(\"기호를 입력하시오 : \")\n",
        "    if a == '+' :\n",
        "        return num1 + num2\n",
        "    elif a == '-' :\n",
        "        return num1 - num2\n",
        "    elif a == '*' :\n",
        "        return num1 * num2\n",
        "    elif a == '/' :\n",
        "        return num1 / num2\n",
        "    elif a == '//' :\n",
        "        return num1 // num2\n",
        "    elif a == '%' :\n",
        "        return num1 % num2\n",
        "    else :\n",
        "        return '제공되지 않는 기호 입니다.'\n",
        "cul2(10, 5)"
      ],
      "metadata": {
        "colab": {
          "base_uri": "https://localhost:8080/"
        },
        "id": "hrDk-BIYh1oD",
        "outputId": "76787bac-3c34-4f82-8b91-cbb24f0e0132"
      },
      "execution_count": null,
      "outputs": [
        {
          "name": "stdout",
          "output_type": "stream",
          "text": [
            "기호를 입력하시오 : +\n"
          ]
        },
        {
          "output_type": "execute_result",
          "data": {
            "text/plain": [
              "15"
            ]
          },
          "metadata": {},
          "execution_count": 78
        }
      ]
    },
    {
      "cell_type": "markdown",
      "source": [
        "## 클래스"
      ],
      "metadata": {
        "id": "3k9vY2-9i97v"
      }
    },
    {
      "cell_type": "code",
      "source": [
        "class 붕어빵:\n",
        "  def __init__(self,속재료):\n",
        "    self.속재료 = 속재료"
      ],
      "metadata": {
        "id": "VINDaMnnjABQ"
      },
      "execution_count": null,
      "outputs": []
    },
    {
      "cell_type": "code",
      "source": [
        "피자붕어빵 = 붕어빵('피자')\n",
        "팥붕어빵 = 붕어빵('팥')"
      ],
      "metadata": {
        "id": "FKLjOXG7lkX5"
      },
      "execution_count": null,
      "outputs": []
    },
    {
      "cell_type": "code",
      "source": [
        "피자붕어빵.속재료"
      ],
      "metadata": {
        "colab": {
          "base_uri": "https://localhost:8080/",
          "height": 36
        },
        "id": "N7h59saglsph",
        "outputId": "12371ff2-264a-4143-f5df-5fd47a09e3e5"
      },
      "execution_count": null,
      "outputs": [
        {
          "output_type": "execute_result",
          "data": {
            "text/plain": [
              "'피자'"
            ],
            "application/vnd.google.colaboratory.intrinsic+json": {
              "type": "string"
            }
          },
          "metadata": {},
          "execution_count": 88
        }
      ]
    },
    {
      "cell_type": "markdown",
      "source": [
        "1. 클래스 = 설계 도면\n",
        "2. 인스턴스 =그 설계 도면으로 지은 집\n",
        "3. 속성 = 집의 동, 호수, 평수 등 변할 수 있는 값\n",
        "속성은 변수로 표현되며, 인스턴트마다 각각의 속성 값을 가질 수 있음.\n",
        "4. 메서드 = 클래스 내부에 정의된 함수\n",
        "5. self = 인스턴트 자체를 의미\n",
        "\n",
        "* init - 속성값을 정해놓을 수 있음"
      ],
      "metadata": {
        "id": "Ih1wdoOA8G0Z"
      }
    },
    {
      "cell_type": "markdown",
      "source": [
        "## 클래스 만들기"
      ],
      "metadata": {
        "id": "ffcsUh-n7Cqp"
      }
    },
    {
      "cell_type": "code",
      "source": [
        "# step1 : 클래스 객체 선언하기  나는 a라는 이름의 클래스를 사용을 할게.(사칙연산)\n",
        "class FourCal:\n",
        "  def set_data(self,num1,num2): #self는 자기 자신을 의미\n",
        "    self.num1 = num1  # 속성\n",
        "    self.num2 = num2\n",
        "\n",
        "  def add(self):\n",
        "    return self.num1 + self.num2\n",
        "\n",
        "a = FourCal()  #FourCal class를 사용하겠다고 선언. a는 인스턴스\n",
        "a.set_data(10,20) #a라는 인스턴스를 활용해서 set_data라는 메서드를 사용하겠다는 의미\n",
        "print(a.num1, a.num2)\n",
        "print(a.add())\n",
        "#b = FourCal() 오류발생. 각각의 인스턴스들이 속성값으로 다른 것을 가져올 수 있음.\n",
        "#print(b.num1, b.num2)"
      ],
      "metadata": {
        "colab": {
          "base_uri": "https://localhost:8080/"
        },
        "id": "apXX9-HCm1SD",
        "outputId": "255d0c35-2fd7-4c79-bb8d-8cd6f68fb164"
      },
      "execution_count": null,
      "outputs": [
        {
          "output_type": "stream",
          "name": "stdout",
          "text": [
            "10 20\n",
            "30\n"
          ]
        }
      ]
    },
    {
      "cell_type": "code",
      "source": [
        "# 이렇게를 더 많이 써요.\n",
        "class FourCal:\n",
        "  def __init__(self,num1,num2): # 너 인스턴스 만들때 내가 그 값을 같이 받을게\n",
        "    self.num1 = num1  # 메서드\n",
        "    self.num2 = num2\n",
        "\n",
        "  def add(self):\n",
        "    return self.num1 + self.num2\n",
        "\n",
        "a = FourCal(10,20)  #a는 인스턴스\n",
        "\n",
        "print(a.num1, a.num2)\n",
        "print(a.add())"
      ],
      "metadata": {
        "colab": {
          "base_uri": "https://localhost:8080/"
        },
        "id": "Pgc8MMQ59ldy",
        "outputId": "6d2f6acb-6151-488b-9bb4-e8c76c9dcf6b"
      },
      "execution_count": null,
      "outputs": [
        {
          "output_type": "stream",
          "name": "stdout",
          "text": [
            "10 20\n",
            "30\n"
          ]
        }
      ]
    },
    {
      "cell_type": "code",
      "source": [
        "# 이렇게를 더 많이 써요.(사칙연산 만들어보기)\n",
        "class FourCal:\n",
        "  def __init__(self,num1,num2):\n",
        "    self.num1 = num1\n",
        "    self.num2 = num2\n",
        "\n",
        "  def add(self):\n",
        "    return self.num1 + self.num2\n",
        "\n",
        "  def sub(self):\n",
        "    return self.num1 - self.num2\n",
        "\n",
        "  def mul(self):\n",
        "    return self.num1 * self.num2\n",
        "\n",
        "  def div(self):\n",
        "    return self.num1 / self.num2\n",
        "\n",
        "a = FourCal(10,20)\n",
        "\n",
        "print(a.num1, a.num2)\n",
        "print(a.add())\n",
        "print(a.sub())\n",
        "print(a.mul())\n",
        "print(a.div())"
      ],
      "metadata": {
        "colab": {
          "base_uri": "https://localhost:8080/"
        },
        "id": "K5l1BsNr-McA",
        "outputId": "e2dc8b7d-d5f2-4bec-d8ac-30c89def827b"
      },
      "execution_count": null,
      "outputs": [
        {
          "output_type": "stream",
          "name": "stdout",
          "text": [
            "10 20\n",
            "30\n",
            "-10\n",
            "200\n",
            "0.5\n"
          ]
        }
      ]
    },
    {
      "cell_type": "markdown",
      "source": [
        "## 실습문제\n",
        "1. BankAccount이름의 클래스를 생성합니다.\n",
        "2. 생성자 메서드로, 계좌 번호, 예금주 이름, 초기 잔액을 받아 계좌를 생성합니다.\n",
        "3. 입금, 출금, 현재 계좌의 잔액을 반환하는 메서드를 생성합니다."
      ],
      "metadata": {
        "id": "w6cVv8onGUEU"
      }
    },
    {
      "cell_type": "code",
      "source": [
        "class BankAccount:\n",
        "  def __init__(self,계좌번호,이름,잔액):  #한글로 안하는게 좋음.\n",
        "    self.계좌번호 = 계좌번호\n",
        "    self.이름 = 이름\n",
        "    self.잔액 = 잔액\n",
        "\n",
        "  def 입금(self, 금액):\n",
        "    self.잔액 = self.잔액 + 금액\n",
        "\n",
        "  def 출금(self, 금액):\n",
        "    self.잔액 = self.잔액 - 금액\n",
        "\n",
        "  def 잔액조회(self):\n",
        "    print(f'{self.이름}님의 잔고는 {self.잔액}입니다,')\n",
        "\n",
        "최진영계좌 = BankAccount('123-456-789','최진영',50000)\n",
        "홍길동계좌 = BankAccount('987-654-321','홍길동',100000)\n",
        "\n",
        "print(최진영계좌.잔액)\n",
        "최진영계좌.입금(50000)\n",
        "print(최진영계좌.잔액)\n",
        "최진영계좌.출금(30000)\n",
        "print(최진영계좌.잔액)\n",
        "최진영계좌.잔액조회()"
      ],
      "metadata": {
        "colab": {
          "base_uri": "https://localhost:8080/"
        },
        "id": "SlApmzPVGSvc",
        "outputId": "48bc1e54-309d-46cf-cd58-546b132317e4"
      },
      "execution_count": null,
      "outputs": [
        {
          "output_type": "stream",
          "name": "stdout",
          "text": [
            "50000\n",
            "100000\n",
            "70000\n",
            "최진영님의 잔고는 70000입니다,\n"
          ]
        }
      ]
    },
    {
      "cell_type": "markdown",
      "source": [
        "## 상속"
      ],
      "metadata": {
        "id": "neiGN3N8Mb8O"
      }
    },
    {
      "cell_type": "code",
      "source": [
        "class FourCal:\n",
        "  def __init__(self,num1,num2): # 너 인스턴스 만들때 내가 그 값을 같이 받을게\n",
        "    self.num1 = num1\n",
        "    self.num2 = num2\n",
        "\n",
        "  def add(self):\n",
        "    return self.num1 + self.num2\n",
        "\n",
        "  def sub(self):\n",
        "    return self.num1 - self.num2\n",
        "\n",
        "  def mul(self):\n",
        "    return self.num1 * self.num2\n",
        "\n",
        "  def div(self):\n",
        "    return self.num1 / self.num2"
      ],
      "metadata": {
        "id": "1EE-hE6APDNL"
      },
      "execution_count": null,
      "outputs": []
    },
    {
      "cell_type": "code",
      "source": [
        "class MoreFourCal(FourCal):\n",
        "  pass"
      ],
      "metadata": {
        "id": "6egmy6ajOd68"
      },
      "execution_count": null,
      "outputs": []
    },
    {
      "cell_type": "code",
      "source": [
        "a = MoreFourCal(2, 4)\n",
        "a.add()"
      ],
      "metadata": {
        "outputId": "74c4127d-ba04-41bc-c305-d4ea399dc285",
        "colab": {
          "base_uri": "https://localhost:8080/"
        },
        "id": "4SQNXOeeOd68"
      },
      "execution_count": null,
      "outputs": [
        {
          "output_type": "execute_result",
          "data": {
            "text/plain": [
              "6"
            ]
          },
          "metadata": {},
          "execution_count": 146
        }
      ]
    },
    {
      "cell_type": "code",
      "source": [
        "class MoreFourCal(FourCal):\n",
        "  def div(self):\n",
        "    if self.num2 == 0:\n",
        "      return 0\n",
        "    else:\n",
        "      return self.num1 / self.num2"
      ],
      "metadata": {
        "id": "yIqjavVbM832"
      },
      "execution_count": null,
      "outputs": []
    },
    {
      "cell_type": "code",
      "source": [
        "a = MoreFourCal(2, 0)\n",
        "a.div()"
      ],
      "metadata": {
        "id": "5XtOTe3jNIvU",
        "outputId": "c42e52a7-24a2-4c71-a315-344755b82ec2",
        "colab": {
          "base_uri": "https://localhost:8080/"
        }
      },
      "execution_count": null,
      "outputs": [
        {
          "output_type": "execute_result",
          "data": {
            "text/plain": [
              "0"
            ]
          },
          "metadata": {},
          "execution_count": 151
        }
      ]
    },
    {
      "cell_type": "markdown",
      "source": [
        "## 모듈과 패키지\n",
        "모듈 ⊂ 패키지 ⊂ 라이브러리\n",
        "* 함수나 클래스의 장점 : 반복을 줄임"
      ],
      "metadata": {
        "id": "LdatixXCTcGU"
      }
    },
    {
      "cell_type": "code",
      "source": [],
      "metadata": {
        "id": "c3hzj0cDN4r-"
      },
      "execution_count": null,
      "outputs": []
    }
  ]
}